{
 "cells": [
  {
   "cell_type": "markdown",
   "metadata": {
    "collapsed": true
   },
   "source": [
    "# Chapter 1.3, Page 33, Example 1:"
   ]
  },
  {
   "cell_type": "markdown",
   "metadata": {},
   "source": [
    "We would like to find the minimum value of N so that the truncation error/remainder term (Taylor's Theorem) for function f(x)= lnx will be smaller than a given tolerance (see example) :"
   ]
  },
  {
   "cell_type": "code",
   "execution_count": 87,
   "metadata": {},
   "outputs": [],
   "source": [
    "def Tay_Pol(x, TOL, M):\n",
    "    N = 1\n",
    "    y = x-1\n",
    "    SUM = 0\n",
    "    POWER = y\n",
    "    TERM = y\n",
    "    SIGN = -1\n",
    "    while N <= M:\n",
    "        SIGN = -SIGN\n",
    "        SUM = SUM + (SIGN*TERM)\n",
    "        POWER = POWER*y\n",
    "        TERM = POWER/(N+1)\n",
    "        if abs(TERM) < TOL:\n",
    "            print(\"Minimum N is:\", N)\n",
    "            break\n",
    "        else :\n",
    "            N = N+1  \n",
    "    if N == M:\n",
    "        print(\"CAUTION: Method Failed!\")"
   ]
  },
  {
   "cell_type": "markdown",
   "metadata": {},
   "source": [
    "Two examples, only the first one is successful:"
   ]
  },
  {
   "cell_type": "code",
   "execution_count": 88,
   "metadata": {},
   "outputs": [
    {
     "name": "stdout",
     "output_type": "stream",
     "text": [
      "Minimum N is: 12\n"
     ]
    }
   ],
   "source": [
    "Tay_Pol(x=1.5, TOL=1e-5, M=15)"
   ]
  },
  {
   "cell_type": "code",
   "execution_count": 89,
   "metadata": {},
   "outputs": [
    {
     "name": "stdout",
     "output_type": "stream",
     "text": [
      "Minimum N is: 15\n",
      "CAUTION: Method Failed!\n"
     ]
    }
   ],
   "source": [
    "Tay_Pol(x=1.5, TOL=1e-6, M=15)"
   ]
  },
  {
   "cell_type": "code",
   "execution_count": null,
   "metadata": {
    "collapsed": true
   },
   "outputs": [],
   "source": []
  },
  {
   "cell_type": "code",
   "execution_count": null,
   "metadata": {
    "collapsed": true
   },
   "outputs": [],
   "source": []
  }
 ],
 "metadata": {
  "kernelspec": {
   "display_name": "Python 3",
   "language": "python",
   "name": "python3"
  },
  "language_info": {
   "codemirror_mode": {
    "name": "ipython",
    "version": 3
   },
   "file_extension": ".py",
   "mimetype": "text/x-python",
   "name": "python",
   "nbconvert_exporter": "python",
   "pygments_lexer": "ipython3",
   "version": "3.6.2"
  },
  "toc": {
   "colors": {
    "hover_highlight": "#DAA520",
    "navigate_num": "#000000",
    "navigate_text": "#333333",
    "running_highlight": "#FF0000",
    "selected_highlight": "#FFD700",
    "sidebar_border": "#EEEEEE",
    "wrapper_background": "#FFFFFF"
   },
   "moveMenuLeft": true,
   "nav_menu": {
    "height": "12px",
    "width": "252px"
   },
   "navigate_menu": true,
   "number_sections": true,
   "sideBar": true,
   "threshold": 4,
   "toc_cell": false,
   "toc_section_display": "block",
   "toc_window_display": false,
   "widenNotebook": false
  }
 },
 "nbformat": 4,
 "nbformat_minor": 2
}
