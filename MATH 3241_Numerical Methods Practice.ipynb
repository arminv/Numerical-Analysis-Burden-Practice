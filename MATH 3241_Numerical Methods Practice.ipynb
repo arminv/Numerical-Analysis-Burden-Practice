{
 "cells": [
  {
   "cell_type": "markdown",
   "metadata": {
    "collapsed": true
   },
   "source": [
    "## Chapter 1.3, Page 33, Example 1:"
   ]
  },
  {
   "cell_type": "markdown",
   "metadata": {},
   "source": [
    "We would like to find the minimum value of N so that the truncation error/remainder term (Taylor's Theorem) for function f(x)= lnx will be smaller than a given tolerance (see example) :"
   ]
  },
  {
   "cell_type": "code",
   "execution_count": 87,
   "metadata": {
    "collapsed": true
   },
   "outputs": [],
   "source": [
    "def Tay_Pol(x, TOL, M):\n",
    "    N = 1\n",
    "    y = x-1\n",
    "    SUM = 0\n",
    "    POWER = y\n",
    "    TERM = y\n",
    "    SIGN = -1\n",
    "    while N <= M:\n",
    "        SIGN = -SIGN\n",
    "        SUM = SUM + (SIGN*TERM)\n",
    "        POWER = POWER*y\n",
    "        TERM = POWER/(N+1)\n",
    "        if abs(TERM) < TOL:\n",
    "            print(\"Minimum N is:\", N)\n",
    "            break\n",
    "        else :\n",
    "            N = N+1  \n",
    "    if N == M:\n",
    "        print(\"CAUTION: Method Failed!\")"
   ]
  },
  {
   "cell_type": "markdown",
   "metadata": {},
   "source": [
    "Two examples, only the first one is successful:"
   ]
  },
  {
   "cell_type": "code",
   "execution_count": 88,
   "metadata": {},
   "outputs": [
    {
     "name": "stdout",
     "output_type": "stream",
     "text": [
      "Minimum N is: 12\n"
     ]
    }
   ],
   "source": [
    "Tay_Pol(x=1.5, TOL=1e-5, M=15)"
   ]
  },
  {
   "cell_type": "code",
   "execution_count": 89,
   "metadata": {},
   "outputs": [
    {
     "name": "stdout",
     "output_type": "stream",
     "text": [
      "Minimum N is: 15\n",
      "CAUTION: Method Failed!\n"
     ]
    }
   ],
   "source": [
    "Tay_Pol(x=1.5, TOL=1e-6, M=15)"
   ]
  },
  {
   "cell_type": "markdown",
   "metadata": {},
   "source": [
    "_______________________________________________________________________________________"
   ]
  },
  {
   "cell_type": "markdown",
   "metadata": {
    "collapsed": true
   },
   "source": [
    "## Algorithm 2.1 (Bisection Method) , Pages 49-50:"
   ]
  },
  {
   "cell_type": "markdown",
   "metadata": {},
   "source": [
    "The function we would like to find the root/zero for (this one is from Example 1 on page 50 of the book)"
   ]
  },
  {
   "cell_type": "code",
   "execution_count": null,
   "metadata": {
    "collapsed": true
   },
   "outputs": [],
   "source": [
    "def f(x): \n",
    "    return(x**3 + (4*x**2) -10)"
   ]
  },
  {
   "cell_type": "markdown",
   "metadata": {},
   "source": [
    "We can now define the Bisection method as a function:"
   ]
  },
  {
   "cell_type": "code",
   "execution_count": 133,
   "metadata": {
    "collapsed": true
   },
   "outputs": [],
   "source": [
    "def Bisect(a, b, TOL, N):\n",
    "    i = 1\n",
    "    FA = f(a)\n",
    "    while i <= N:\n",
    "        p = a + (b-a)/2\n",
    "        FP = f(p)\n",
    "        if FP == 0 or (b-a)/2 < TOL:\n",
    "            print(\"Number of iterations :\", i)\n",
    "            print(\"Approximate Solution (p) :\", p)\n",
    "            break\n",
    "        else:\n",
    "            i = i+1\n",
    "        if FA*FP > 0:\n",
    "            a = p\n",
    "            FA = FP\n",
    "        else:\n",
    "            b = p\n",
    "    print(\"CAUTION: Method Failed After\", N, \"Iterations!\")"
   ]
  },
  {
   "cell_type": "markdown",
   "metadata": {},
   "source": [
    "Two examples, the first one is successful in that we get a reasonable approximation within the specified number of iterations:"
   ]
  },
  {
   "cell_type": "code",
   "execution_count": 134,
   "metadata": {},
   "outputs": [
    {
     "name": "stdout",
     "output_type": "stream",
     "text": [
      "Number of iterations : 14\n",
      "Approximate Solution (p) : 1.36517333984375\n",
      "CAUTION: Method Failed After 100 Iterations!\n"
     ]
    }
   ],
   "source": [
    "Bisect(a=1, b=2, TOL=1e-4, N=100)"
   ]
  },
  {
   "cell_type": "markdown",
   "metadata": {},
   "source": [
    "Second one fails to give a solution that is within both the tolerance and the maximum number of iterations:"
   ]
  },
  {
   "cell_type": "code",
   "execution_count": 135,
   "metadata": {},
   "outputs": [
    {
     "name": "stdout",
     "output_type": "stream",
     "text": [
      "CAUTION: Method Failed After 10 Iterations!\n"
     ]
    }
   ],
   "source": [
    "Bisect(a=1, b=2, TOL=1e-4, N=10)"
   ]
  },
  {
   "cell_type": "markdown",
   "metadata": {},
   "source": [
    "We can either raise the maximum number of iterations we are willing to make or lower the tolerance!"
   ]
  },
  {
   "cell_type": "markdown",
   "metadata": {},
   "source": [
    "_______________________________________________________________________________________"
   ]
  },
  {
   "cell_type": "code",
   "execution_count": null,
   "metadata": {
    "collapsed": true
   },
   "outputs": [],
   "source": []
  }
 ],
 "metadata": {
  "kernelspec": {
   "display_name": "Python 3",
   "language": "python",
   "name": "python3"
  },
  "language_info": {
   "codemirror_mode": {
    "name": "ipython",
    "version": 3
   },
   "file_extension": ".py",
   "mimetype": "text/x-python",
   "name": "python",
   "nbconvert_exporter": "python",
   "pygments_lexer": "ipython3",
   "version": "3.6.2"
  },
  "toc": {
   "colors": {
    "hover_highlight": "#DAA520",
    "navigate_num": "#000000",
    "navigate_text": "#333333",
    "running_highlight": "#FF0000",
    "selected_highlight": "#FFD700",
    "sidebar_border": "#EEEEEE",
    "wrapper_background": "#FFFFFF"
   },
   "moveMenuLeft": true,
   "nav_menu": {
    "height": "12px",
    "width": "252px"
   },
   "navigate_menu": true,
   "number_sections": true,
   "sideBar": true,
   "threshold": 4,
   "toc_cell": false,
   "toc_section_display": "block",
   "toc_window_display": false,
   "widenNotebook": false
  }
 },
 "nbformat": 4,
 "nbformat_minor": 2
}
