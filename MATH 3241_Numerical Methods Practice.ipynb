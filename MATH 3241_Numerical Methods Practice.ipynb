{
 "cells": [
  {
   "cell_type": "markdown",
   "metadata": {
    "collapsed": true
   },
   "source": [
    "#### By: Armin Varshokar\n",
    "\n",
    "## Chapter 1.3, Page 33, Example 1:"
   ]
  },
  {
   "cell_type": "markdown",
   "metadata": {},
   "source": [
    "We would like to find the minimum value of N so that the truncation error/remainder term (Taylor's Theorem) for function f(x)= lnx will be smaller than a given tolerance (see example) :"
   ]
  },
  {
   "cell_type": "code",
   "execution_count": 1,
   "metadata": {
    "collapsed": true
   },
   "outputs": [],
   "source": [
    "def Tay_Pol(x, TOL, M):\n",
    "    N = 1\n",
    "    y = x-1\n",
    "    SUM = 0\n",
    "    POWER = y\n",
    "    TERM = y\n",
    "    SIGN = -1\n",
    "    while N <= M:\n",
    "        SIGN = -SIGN\n",
    "        SUM = SUM + (SIGN*TERM)\n",
    "        POWER = POWER*y\n",
    "        TERM = POWER/(N+1)\n",
    "        if abs(TERM) < TOL:\n",
    "            print(\"Minimum N is:\", N)\n",
    "            break\n",
    "        else :\n",
    "            N += 1  \n",
    "    if N == M:\n",
    "        print(\"CAUTION: Method Failed!\")"
   ]
  },
  {
   "cell_type": "markdown",
   "metadata": {},
   "source": [
    "Two examples, only the first one is successful:"
   ]
  },
  {
   "cell_type": "code",
   "execution_count": 2,
   "metadata": {},
   "outputs": [
    {
     "name": "stdout",
     "output_type": "stream",
     "text": [
      "Minimum N is: 12\n"
     ]
    }
   ],
   "source": [
    "Tay_Pol(x=1.5, TOL=1e-5, M=15)"
   ]
  },
  {
   "cell_type": "code",
   "execution_count": 3,
   "metadata": {},
   "outputs": [
    {
     "name": "stdout",
     "output_type": "stream",
     "text": [
      "Minimum N is: 15\n",
      "CAUTION: Method Failed!\n"
     ]
    }
   ],
   "source": [
    "Tay_Pol(x=1.5, TOL=1e-6, M=15)"
   ]
  },
  {
   "cell_type": "markdown",
   "metadata": {},
   "source": [
    "_______________________________________________________________________________________"
   ]
  },
  {
   "cell_type": "markdown",
   "metadata": {
    "collapsed": true
   },
   "source": [
    "## Algorithm 2.1 (Bisection Method) , Pages 49-50:"
   ]
  },
  {
   "cell_type": "markdown",
   "metadata": {},
   "source": [
    "The function we would like to find the root/zero for (this one is from Example 1 on page 50 of the book)"
   ]
  },
  {
   "cell_type": "code",
   "execution_count": 6,
   "metadata": {
    "collapsed": true
   },
   "outputs": [],
   "source": [
    "def f(x): \n",
    "    return(x**3 + (4*x**2) -10)"
   ]
  },
  {
   "cell_type": "markdown",
   "metadata": {},
   "source": [
    "We can now define the Bisection method as a function:"
   ]
  },
  {
   "cell_type": "code",
   "execution_count": 7,
   "metadata": {
    "collapsed": true
   },
   "outputs": [],
   "source": [
    "def bisect(a, b, TOL, N):\n",
    "    i = 1\n",
    "    FA = f(a)\n",
    "    while i <= N:\n",
    "        p = a + (b-a)/2\n",
    "        FP = f(p)\n",
    "        print('Iteration No:', i)\n",
    "        print('p =',p)\n",
    "        # print('Absolute Error=', abs(p-p_true)) #\n",
    "        # Throw a warning/notification once the error gets smaller < 1e-6\n",
    "        print('a =', a, ', b =', b)\n",
    "        print('f(p)=', FP)\n",
    "        if FP == 0 or (b-a)/2 < TOL:\n",
    "            print(\"Number of iterations :\", i)\n",
    "            print(\"Approximate Solution (p) :\", p)\n",
    "            break\n",
    "        else:\n",
    "            i += 1\n",
    "        if FA*FP > 0:\n",
    "            a = p\n",
    "            FA = FP\n",
    "        else:\n",
    "            b = p\n",
    "    print(\"CAUTION: Method Failed After\", N, \"Iterations!\")"
   ]
  },
  {
   "cell_type": "markdown",
   "metadata": {},
   "source": [
    "Two examples, the first one is successful in that we get a reasonable approximation within the specified number of iterations:"
   ]
  },
  {
   "cell_type": "code",
   "execution_count": 8,
   "metadata": {},
   "outputs": [
    {
     "name": "stdout",
     "output_type": "stream",
     "text": [
      "Iteration No: 1\n",
      "p = 1.5\n",
      "a = 1 , b = 2\n",
      "f(p)= 2.375\n",
      "Iteration No: 2\n",
      "p = 1.25\n",
      "a = 1 , b = 1.5\n",
      "f(p)= -1.796875\n",
      "Iteration No: 3\n",
      "p = 1.375\n",
      "a = 1.25 , b = 1.5\n",
      "f(p)= 0.162109375\n",
      "Iteration No: 4\n",
      "p = 1.3125\n",
      "a = 1.25 , b = 1.375\n",
      "f(p)= -0.848388671875\n",
      "Iteration No: 5\n",
      "p = 1.34375\n",
      "a = 1.3125 , b = 1.375\n",
      "f(p)= -0.350982666015625\n",
      "Iteration No: 6\n",
      "p = 1.359375\n",
      "a = 1.34375 , b = 1.375\n",
      "f(p)= -0.09640884399414062\n",
      "Iteration No: 7\n",
      "p = 1.3671875\n",
      "a = 1.359375 , b = 1.375\n",
      "f(p)= 0.03235578536987305\n",
      "Iteration No: 8\n",
      "p = 1.36328125\n",
      "a = 1.359375 , b = 1.3671875\n",
      "f(p)= -0.03214997053146362\n",
      "Iteration No: 9\n",
      "p = 1.365234375\n",
      "a = 1.36328125 , b = 1.3671875\n",
      "f(p)= 7.202476263046265e-05\n",
      "Iteration No: 10\n",
      "p = 1.3642578125\n",
      "a = 1.36328125 , b = 1.365234375\n",
      "f(p)= -0.01604669075459242\n",
      "Iteration No: 11\n",
      "p = 1.36474609375\n",
      "a = 1.3642578125 , b = 1.365234375\n",
      "f(p)= -0.007989262812770903\n",
      "Iteration No: 12\n",
      "p = 1.364990234375\n",
      "a = 1.36474609375 , b = 1.365234375\n",
      "f(p)= -0.003959101522923447\n",
      "Iteration No: 13\n",
      "p = 1.3651123046875\n",
      "a = 1.364990234375 , b = 1.365234375\n",
      "f(p)= -0.0019436590100667672\n",
      "Iteration No: 14\n",
      "p = 1.36517333984375\n",
      "a = 1.3651123046875 , b = 1.365234375\n",
      "f(p)= -0.000935847281880342\n",
      "Number of iterations : 14\n",
      "Approximate Solution (p) : 1.36517333984375\n",
      "CAUTION: Method Failed After 100 Iterations!\n"
     ]
    }
   ],
   "source": [
    "bisect(a=1, b=2, TOL=1e-4, N=100)"
   ]
  },
  {
   "cell_type": "markdown",
   "metadata": {},
   "source": [
    "Second one fails to give a solution that is within both the tolerance and the maximum number of iterations:"
   ]
  },
  {
   "cell_type": "code",
   "execution_count": 9,
   "metadata": {},
   "outputs": [
    {
     "name": "stdout",
     "output_type": "stream",
     "text": [
      "Iteration No: 1\n",
      "p = 1.5\n",
      "a = 1 , b = 2\n",
      "f(p)= 2.375\n",
      "Iteration No: 2\n",
      "p = 1.25\n",
      "a = 1 , b = 1.5\n",
      "f(p)= -1.796875\n",
      "Iteration No: 3\n",
      "p = 1.375\n",
      "a = 1.25 , b = 1.5\n",
      "f(p)= 0.162109375\n",
      "Iteration No: 4\n",
      "p = 1.3125\n",
      "a = 1.25 , b = 1.375\n",
      "f(p)= -0.848388671875\n",
      "Iteration No: 5\n",
      "p = 1.34375\n",
      "a = 1.3125 , b = 1.375\n",
      "f(p)= -0.350982666015625\n",
      "Iteration No: 6\n",
      "p = 1.359375\n",
      "a = 1.34375 , b = 1.375\n",
      "f(p)= -0.09640884399414062\n",
      "Iteration No: 7\n",
      "p = 1.3671875\n",
      "a = 1.359375 , b = 1.375\n",
      "f(p)= 0.03235578536987305\n",
      "Iteration No: 8\n",
      "p = 1.36328125\n",
      "a = 1.359375 , b = 1.3671875\n",
      "f(p)= -0.03214997053146362\n",
      "Iteration No: 9\n",
      "p = 1.365234375\n",
      "a = 1.36328125 , b = 1.3671875\n",
      "f(p)= 7.202476263046265e-05\n",
      "Iteration No: 10\n",
      "p = 1.3642578125\n",
      "a = 1.36328125 , b = 1.365234375\n",
      "f(p)= -0.01604669075459242\n",
      "CAUTION: Method Failed After 10 Iterations!\n"
     ]
    }
   ],
   "source": [
    "bisect(a=1, b=2, TOL=1e-4, N=10)"
   ]
  },
  {
   "cell_type": "markdown",
   "metadata": {},
   "source": [
    "We can either raise the maximum number of iterations we are willing to make or lower the tolerance!"
   ]
  },
  {
   "cell_type": "markdown",
   "metadata": {},
   "source": [
    "_______________________________________________________________________________________"
   ]
  },
  {
   "cell_type": "markdown",
   "metadata": {
    "collapsed": true
   },
   "source": [
    "## Algorithm 2.2 (Fixed-Point Iteration) , Pages 59-60:"
   ]
  },
  {
   "cell_type": "markdown",
   "metadata": {},
   "source": [
    "We change (manipulate) the equation into the form: g(x)=x and define g as:"
   ]
  },
  {
   "cell_type": "code",
   "execution_count": 10,
   "metadata": {
    "collapsed": true
   },
   "outputs": [],
   "source": [
    "def g_5(x):\n",
    "    return(x - ((x**3+4*x**2-10)/(3*x**2+8*x)))"
   ]
  },
  {
   "cell_type": "code",
   "execution_count": 11,
   "metadata": {
    "collapsed": true
   },
   "outputs": [],
   "source": [
    "def fixed_point(p0, TOL, N):\n",
    "    i = 1\n",
    "    while i <= N:\n",
    "        p = g_5(p0)\n",
    "        print('Iteration No:', i)\n",
    "        print('p=', format(p, '0.9f'))\n",
    "        if abs(p-p0) < TOL:\n",
    "            print(\"Number of iterations :\", i)\n",
    "            print(\"Approximate Solution (p) :\", format(p, '0.9f'))\n",
    "            break\n",
    "        else:\n",
    "            i += 1\n",
    "        p0 = p\n",
    "    print(\"CAUTION: Method Failed After\", N, \"Iterations!\")"
   ]
  },
  {
   "cell_type": "code",
   "execution_count": 12,
   "metadata": {},
   "outputs": [
    {
     "name": "stdout",
     "output_type": "stream",
     "text": [
      "Iteration No: 1\n",
      "p= 1.373333333\n",
      "Iteration No: 2\n",
      "p= 1.365262015\n",
      "Iteration No: 3\n",
      "p= 1.365230014\n",
      "Iteration No: 4\n",
      "p= 1.365230013\n",
      "Number of iterations : 4\n",
      "Approximate Solution (p) : 1.365230013\n",
      "CAUTION: Method Failed After 50 Iterations!\n"
     ]
    }
   ],
   "source": [
    "fixed_point(p0=1.5, TOL=1e-5, N=50)"
   ]
  },
  {
   "cell_type": "markdown",
   "metadata": {},
   "source": [
    "Note that $p(n=0)$ is not shown above!"
   ]
  },
  {
   "cell_type": "markdown",
   "metadata": {},
   "source": [
    "------------------------"
   ]
  },
  {
   "cell_type": "markdown",
   "metadata": {},
   "source": [
    "## Algorithm 2.3 (Newton's Method) , Page 67:"
   ]
  },
  {
   "cell_type": "code",
   "execution_count": 13,
   "metadata": {
    "collapsed": true
   },
   "outputs": [],
   "source": [
    "import math\n",
    "# from decimal import Decimal #\n",
    "\n",
    "def func(x):\n",
    "    return math.cos(x)-x\n",
    "\n",
    "def f_prime(x):\n",
    "    return -math.sin(x)-1\n",
    "\n",
    "def newton_raph(p0, TOL, N):\n",
    "    i = 1\n",
    "    while i <= N:\n",
    "        p = p0 - (func(p0)/f_prime(p0))\n",
    "        print('Iteration No:', i)\n",
    "        print('p=', format(p, '0.10f'))\n",
    "        print('f(p)=', func(p))\n",
    "        print('f\\'(p)', f_prime(p))\n",
    "        # print('Absolute Error=', abs(p-p_true)) #\n",
    "        # Throw a warning/notification once the error gets smaller < 1e-6\n",
    "        if abs(p-p0) < TOL:\n",
    "            print(\"Number of iterations :\", i)\n",
    "            print(\"Approximate Solution (p) :\", format(p, '0.10f'))\n",
    "            break\n",
    "        else:\n",
    "            i += 1\n",
    "        p0 = p\n",
    "    print(\"CAUTION: Method Failed After\", N, \"Iterations!\")"
   ]
  },
  {
   "cell_type": "code",
   "execution_count": 14,
   "metadata": {},
   "outputs": [
    {
     "name": "stdout",
     "output_type": "stream",
     "text": [
      "Iteration No: 1\n",
      "p= 0.7395361335\n",
      "f(p)= -0.000754874682502682\n",
      "f'(p) -1.6739452882820078\n",
      "Iteration No: 2\n",
      "p= 0.7390851781\n",
      "f(p)= -7.512986655022758e-08\n",
      "f'(p) -1.6736120623613737\n",
      "Iteration No: 3\n",
      "p= 0.7390851332\n",
      "f(p)= -6.661338147750939e-16\n",
      "f'(p) -1.673612029183215\n",
      "Iteration No: 4\n",
      "p= 0.7390851332\n",
      "f(p)= 1.1102230246251565e-16\n",
      "f'(p) -1.6736120291832148\n",
      "Number of iterations : 4\n",
      "Approximate Solution (p) : 0.7390851332\n",
      "CAUTION: Method Failed After 100 Iterations!\n"
     ]
    }
   ],
   "source": [
    "newton_raph(p0=(math.pi/4), TOL=1e-10, N=100)"
   ]
  },
  {
   "cell_type": "markdown",
   "metadata": {},
   "source": [
    "Note that $p(n=0) = 0.7853981635$ is not shown above!"
   ]
  },
  {
   "cell_type": "markdown",
   "metadata": {},
   "source": [
    "-------------"
   ]
  },
  {
   "cell_type": "markdown",
   "metadata": {},
   "source": [
    "## Algorithm 2.4 (Secant Method) , Page 71:"
   ]
  },
  {
   "cell_type": "code",
   "execution_count": 15,
   "metadata": {
    "collapsed": true
   },
   "outputs": [],
   "source": [
    "def Secant(p0, p1, TOL, N):\n",
    "    i = 2\n",
    "    q0 = func(p0)\n",
    "    q1 = func(p1)\n",
    "    print('Iteration No : 1 \\n p=', format(p0, '0.10f'))\n",
    "    print('Iteration No : 2 \\n p=', format(p1, '0.10f'))\n",
    "    while i <= N :\n",
    "        p = p1 - (q1*((p1-p0)/(q1-q0)))\n",
    "        print('Iteration No:', i)\n",
    "        print('p=', format(p, '0.10f'))\n",
    "        print('f(p)=', func(p))\n",
    "        # print('Absolute Error=', abs(p-p_true)) #\n",
    "        # Throw a warning/notification once the error gets smaller < 1e-6\n",
    "        if abs(p-p0) < TOL:\n",
    "            print(\"Number of iterations :\", i)\n",
    "            print(\"Approximate Solution (p) :\", format(p, '0.10f'))\n",
    "            break\n",
    "        else:\n",
    "            i += 1\n",
    "        p0 = p1\n",
    "        q0 = q1\n",
    "        p1 = p\n",
    "        q1 = func(p)\n",
    "    print(\"CAUTION: Method Failed After\", N, \"Iterations!\")"
   ]
  },
  {
   "cell_type": "code",
   "execution_count": 16,
   "metadata": {},
   "outputs": [
    {
     "name": "stdout",
     "output_type": "stream",
     "text": [
      "Iteration No : 1 \n",
      " p= 0.5000000000\n",
      "Iteration No : 2 \n",
      " p= 0.7853981634\n",
      "Iteration No: 2\n",
      "p= 0.7363841388\n",
      "f(p)= 0.0045177185221702\n",
      "Iteration No: 3\n",
      "p= 0.7390581392\n",
      "f(p)= 4.5177215963754236e-05\n",
      "Iteration No: 4\n",
      "p= 0.7390851493\n",
      "f(p)= -2.6982167056210926e-08\n",
      "Iteration No: 5\n",
      "p= 0.7390851332\n",
      "f(p)= 1.6087131626818518e-13\n",
      "Number of iterations : 5\n",
      "Approximate Solution (p) : 0.7390851332\n",
      "CAUTION: Method Failed After 50 Iterations!\n"
     ]
    }
   ],
   "source": [
    "Secant(p0=0.5 ,p1=(math.pi/4) ,TOL=1e-4, N=50)"
   ]
  },
  {
   "cell_type": "markdown",
   "metadata": {},
   "source": [
    "## Algorithm 2.5 (False Position) , Page 73:"
   ]
  },
  {
   "cell_type": "code",
   "execution_count": 17,
   "metadata": {
    "collapsed": true
   },
   "outputs": [],
   "source": [
    "def False_Position(p0, p1, TOL, N):\n",
    "    i = 2\n",
    "    q0 = func(p0)\n",
    "    q1 = func(p1)\n",
    "    while i <= N :\n",
    "        p = p1 - (q1*((p1-p0)/(q1-q0)))\n",
    "        print('Iteration No:', i)\n",
    "        print('p=', format(p, '0.10f'))\n",
    "        if abs(p-p1) < TOL:\n",
    "            print(\"Number of iterations :\", i)\n",
    "            print(\"Approximate Solution (p) :\", format(p, '0.10f'))\n",
    "            break\n",
    "        else:\n",
    "            i += 1\n",
    "            q = func(p)\n",
    "        if q*q1 < 0:\n",
    "            p0 = p1\n",
    "            q0 = q1\n",
    "        p1 = p\n",
    "        q1 = q\n",
    "    print(\"CAUTION: Method Failed After\", N, \"Iterations!\")"
   ]
  },
  {
   "cell_type": "code",
   "execution_count": 18,
   "metadata": {},
   "outputs": [
    {
     "name": "stdout",
     "output_type": "stream",
     "text": [
      "Iteration No: 2\n",
      "p= 0.7363841388\n",
      "Iteration No: 3\n",
      "p= 0.7390581392\n",
      "Iteration No: 4\n",
      "p= 0.7390848638\n",
      "Number of iterations : 4\n",
      "Approximate Solution (p) : 0.7390848638\n",
      "CAUTION: Method Failed After 50 Iterations!\n"
     ]
    }
   ],
   "source": [
    "False_Position(p0= 0.5 ,p1= (math.pi/4),TOL= 1e-4, N=50)"
   ]
  },
  {
   "cell_type": "code",
   "execution_count": null,
   "metadata": {
    "collapsed": true
   },
   "outputs": [],
   "source": []
  },
  {
   "cell_type": "code",
   "execution_count": 79,
   "metadata": {},
   "outputs": [],
   "source": [
    "import math\n",
    "from decimal import Decimal\n",
    "\n",
    "def func(x):\n",
    "    return Decimal(math.cos(x)-x)\n",
    "\n",
    "def f_prime(x):\n",
    "    return Decimal(-math.sin(x)-1)\n",
    "\n",
    "def newto(p0, TOL, N):\n",
    "    i = 1\n",
    "    while i <= N :\n",
    "        p = p0 - func(p0)/f_prime(p0)\n",
    "        print ('Iteration No:', i)\n",
    "        # print('Absolute Error=', abs(p-p_true)) #\n",
    "        if p -Decimal(p0) < TOL:\n",
    "            print('Number of iterations :', i)\n",
    "            print('Approximate Solution (p) :', )\n",
    "            break\n",
    "        else:\n",
    "            i += 1\n",
    "        p0 = p\n",
    "    print(\"CAUTION: Method Failed After\", N, \"Iterations!\")"
   ]
  },
  {
   "cell_type": "code",
   "execution_count": 80,
   "metadata": {},
   "outputs": [
    {
     "data": {
      "text/plain": [
       "decimal.Decimal"
      ]
     },
     "execution_count": 80,
     "metadata": {},
     "output_type": "execute_result"
    }
   ],
   "source": [
    "aa = func(1.5)\n",
    "type(aa)"
   ]
  },
  {
   "cell_type": "code",
   "execution_count": 81,
   "metadata": {},
   "outputs": [
    {
     "ename": "TypeError",
     "evalue": "unsupported operand type(s) for -: 'float' and 'decimal.Decimal'",
     "output_type": "error",
     "traceback": [
      "\u001b[0;31m---------------------------------------------------------------------------\u001b[0m",
      "\u001b[0;31mTypeError\u001b[0m                                 Traceback (most recent call last)",
      "\u001b[0;32m<ipython-input-81-f89e76a7808e>\u001b[0m in \u001b[0;36m<module>\u001b[0;34m()\u001b[0m\n\u001b[0;32m----> 1\u001b[0;31m \u001b[0mnewto\u001b[0m\u001b[0;34m(\u001b[0m\u001b[0;36m0.5\u001b[0m\u001b[0;34m,\u001b[0m \u001b[0mTOL\u001b[0m\u001b[0;34m=\u001b[0m\u001b[0;36m1e-6\u001b[0m\u001b[0;34m,\u001b[0m \u001b[0mN\u001b[0m\u001b[0;34m=\u001b[0m\u001b[0;36m100\u001b[0m\u001b[0;34m)\u001b[0m\u001b[0;34m\u001b[0m\u001b[0m\n\u001b[0m",
      "\u001b[0;32m<ipython-input-79-13d90a4a9853>\u001b[0m in \u001b[0;36mnewto\u001b[0;34m(p0, TOL, N)\u001b[0m\n\u001b[1;32m     11\u001b[0m     \u001b[0mi\u001b[0m \u001b[0;34m=\u001b[0m \u001b[0;36m1\u001b[0m\u001b[0;34m\u001b[0m\u001b[0m\n\u001b[1;32m     12\u001b[0m     \u001b[0;32mwhile\u001b[0m \u001b[0mi\u001b[0m \u001b[0;34m<=\u001b[0m \u001b[0mN\u001b[0m \u001b[0;34m:\u001b[0m\u001b[0;34m\u001b[0m\u001b[0m\n\u001b[0;32m---> 13\u001b[0;31m         \u001b[0mp\u001b[0m \u001b[0;34m=\u001b[0m \u001b[0mp0\u001b[0m \u001b[0;34m-\u001b[0m \u001b[0mfunc\u001b[0m\u001b[0;34m(\u001b[0m\u001b[0mp0\u001b[0m\u001b[0;34m)\u001b[0m\u001b[0;34m/\u001b[0m\u001b[0mf_prime\u001b[0m\u001b[0;34m(\u001b[0m\u001b[0mp0\u001b[0m\u001b[0;34m)\u001b[0m\u001b[0;34m\u001b[0m\u001b[0m\n\u001b[0m\u001b[1;32m     14\u001b[0m         \u001b[0mprint\u001b[0m \u001b[0;34m(\u001b[0m\u001b[0;34m'Iteration No:'\u001b[0m\u001b[0;34m,\u001b[0m \u001b[0mi\u001b[0m\u001b[0;34m)\u001b[0m\u001b[0;34m\u001b[0m\u001b[0m\n\u001b[1;32m     15\u001b[0m         \u001b[0;31m# print('Absolute Error=', abs(p-p_true)) #\u001b[0m\u001b[0;34m\u001b[0m\u001b[0;34m\u001b[0m\u001b[0m\n",
      "\u001b[0;31mTypeError\u001b[0m: unsupported operand type(s) for -: 'float' and 'decimal.Decimal'"
     ]
    }
   ],
   "source": [
    "newto(0.5, TOL=1e-6, N=100)"
   ]
  },
  {
   "cell_type": "code",
   "execution_count": null,
   "metadata": {
    "collapsed": true
   },
   "outputs": [],
   "source": []
  }
 ],
 "metadata": {
  "kernelspec": {
   "display_name": "Python 3",
   "language": "python",
   "name": "python3"
  },
  "language_info": {
   "codemirror_mode": {
    "name": "ipython",
    "version": 3
   },
   "file_extension": ".py",
   "mimetype": "text/x-python",
   "name": "python",
   "nbconvert_exporter": "python",
   "pygments_lexer": "ipython3",
   "version": "3.6.2"
  },
  "toc": {
   "colors": {
    "hover_highlight": "#DAA520",
    "navigate_num": "#000000",
    "navigate_text": "#333333",
    "running_highlight": "#FF0000",
    "selected_highlight": "#FFD700",
    "sidebar_border": "#EEEEEE",
    "wrapper_background": "#FFFFFF"
   },
   "moveMenuLeft": true,
   "nav_menu": {
    "height": "12px",
    "width": "252px"
   },
   "navigate_menu": true,
   "number_sections": true,
   "sideBar": true,
   "threshold": 4,
   "toc_cell": false,
   "toc_section_display": "block",
   "toc_window_display": false,
   "widenNotebook": false
  }
 },
 "nbformat": 4,
 "nbformat_minor": 2
}
