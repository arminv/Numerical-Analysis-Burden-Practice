{
 "cells": [
  {
   "cell_type": "markdown",
   "metadata": {},
   "source": [
    "**(a)**\n",
    "\n",
    "We implement the **Bisection Method** as a function, bisect(). We also define the function $f$ we want to find the root for (func_1(x)). This will be used for other sections too:"
   ]
  },
  {
   "cell_type": "code",
   "execution_count": 1,
   "metadata": {
    "collapsed": true
   },
   "outputs": [],
   "source": [
    "import math\n",
    "\n",
    "def func_1(x): \n",
    "        return(2*x + 3*math.cos(x)- math.exp(x))  # f(x) = 2x + cos(x) - e^(x)\n",
    "    \n",
    "def bisect(a, b, TOL, N, p_true):\n",
    "    i = 1\n",
    "    FA = func_1(a)\n",
    "    while i <= N:\n",
    "        p = a + (b-a)/2    # More accurate version for finite-digit arithmetic\n",
    "        FP = func_1(p)\n",
    "        print('Iteration No:', i)\n",
    "        print('a =', a, ', b =', b)\n",
    "        print('p =', format(p, '0.11f'))   # Show values to 11 decimal places\n",
    "        print('f(p)=', FP)\n",
    "        print('Absolute Error=', abs(p-p_true) ) # Absolute Error of approximation (p_true is given)\n",
    "        if abs(p-p_true) <= 1e-5:\n",
    "            print(\"NOTE: --SMALL ERROR--!\")  # Throw a note once the error gets smaller than 1e-6\n",
    "        if FP == 0 or (b-a)/2 < TOL:\n",
    "            print(\"Number of iterations :\", i)\n",
    "            print(\"Approximate Solution (p) :\", format(p, '0.11f'))\n",
    "            break\n",
    "        else:\n",
    "            i += 1\n",
    "        if FA*FP > 0:\n",
    "            a = p\n",
    "            FA = FP\n",
    "        else:\n",
    "            b = p\n",
    "    print(\"CAUTION: Method Failed After\", i, \"Iterations!\")"
   ]
  },
  {
   "cell_type": "code",
   "execution_count": 2,
   "metadata": {},
   "outputs": [
    {
     "name": "stdout",
     "output_type": "stream",
     "text": [
      "Iteration No: 1\n",
      "a = 0 , b = 2\n",
      "p = 1.00000000000\n",
      "f(p)= 0.9026250891453742\n",
      "Absolute Error= 0.23971469798\n",
      "Iteration No: 2\n",
      "a = 1.0 , b = 2\n",
      "p = 1.50000000000\n",
      "f(p)= -1.2694774653349556\n",
      "Absolute Error= 0.26028530202\n",
      "Iteration No: 3\n",
      "a = 1.0 , b = 1.5\n",
      "p = 1.25000000000\n",
      "f(p)= -0.04437587027603529\n",
      "Absolute Error= 0.010285302019999998\n",
      "Iteration No: 4\n",
      "a = 1.0 , b = 1.25\n",
      "p = 1.12500000000\n",
      "f(p)= 0.46331270147796744\n",
      "Absolute Error= 0.11471469798\n",
      "Iteration No: 5\n",
      "a = 1.125 , b = 1.25\n",
      "p = 1.18750000000\n",
      "f(p)= 0.2180651245349261\n",
      "Absolute Error= 0.05221469798\n",
      "Iteration No: 6\n",
      "a = 1.1875 , b = 1.25\n",
      "p = 1.21875000000\n",
      "f(p)= 0.08900166110516672\n",
      "Absolute Error= 0.020964697980000002\n",
      "Iteration No: 7\n",
      "a = 1.21875 , b = 1.25\n",
      "p = 1.23437500000\n",
      "f(p)= 0.022853253498943626\n",
      "Absolute Error= 0.005339697980000002\n",
      "Iteration No: 8\n",
      "a = 1.234375 , b = 1.25\n",
      "p = 1.24218750000\n",
      "f(p)= -0.010626073604524056\n",
      "Absolute Error= 0.002472802019999998\n",
      "Iteration No: 9\n",
      "a = 1.234375 , b = 1.2421875\n",
      "p = 1.23828125000\n",
      "f(p)= 0.00614738012727889\n",
      "Absolute Error= 0.0014334479800000022\n",
      "Iteration No: 10\n",
      "a = 1.23828125 , b = 1.2421875\n",
      "p = 1.24023437500\n",
      "f(p)= -0.0022308969017381663\n",
      "Absolute Error= 0.0005196770199999978\n",
      "Iteration No: 11\n",
      "a = 1.23828125 , b = 1.240234375\n",
      "p = 1.23925781250\n",
      "f(p)= 0.001960353784101976\n",
      "Absolute Error= 0.0004568854800000022\n",
      "Iteration No: 12\n",
      "a = 1.2392578125 , b = 1.240234375\n",
      "p = 1.23974609375\n",
      "f(p)= -0.00013474348008735149\n",
      "Absolute Error= 3.1395769999997825e-05\n",
      "Iteration No: 13\n",
      "a = 1.2392578125 , b = 1.23974609375\n",
      "p = 1.23950195312\n",
      "f(p)= 0.0009129371671972031\n",
      "Absolute Error= 0.00021274485500000218\n",
      "Iteration No: 14\n",
      "a = 1.239501953125 , b = 1.23974609375\n",
      "p = 1.23962402344\n",
      "f(p)= 0.00038912984791350524\n",
      "Absolute Error= 9.067454250000218e-05\n",
      "Iteration No: 15\n",
      "a = 1.2396240234375 , b = 1.23974609375\n",
      "p = 1.23968505859\n",
      "f(p)= 0.00012720143507305437\n",
      "Absolute Error= 2.9639386250002175e-05\n",
      "Iteration No: 16\n",
      "a = 1.23968505859375 , b = 1.23974609375\n",
      "p = 1.23971557617\n",
      "f(p)= -3.7689597083279125e-06\n",
      "Absolute Error= 8.781918749978246e-07\n",
      "NOTE: --SMALL ERROR--!\n",
      "Iteration No: 17\n",
      "a = 1.23968505859375 , b = 1.239715576171875\n",
      "p = 1.23970031738\n",
      "f(p)= 6.171675338073612e-05\n",
      "Absolute Error= 1.4380597187502175e-05\n",
      "Iteration No: 18\n",
      "a = 1.2397003173828125 , b = 1.239715576171875\n",
      "p = 1.23970794678\n",
      "f(p)= 2.897402576129693e-05\n",
      "Absolute Error= 6.751202656252175e-06\n",
      "NOTE: --SMALL ERROR--!\n",
      "Iteration No: 19\n",
      "a = 1.2397079467773438 , b = 1.239715576171875\n",
      "p = 1.23971176147\n",
      "f(p)= 1.260256525759118e-05\n",
      "Absolute Error= 2.9365053906271754e-06\n",
      "NOTE: --SMALL ERROR--!\n",
      "Iteration No: 20\n",
      "a = 1.2397117614746094 , b = 1.239715576171875\n",
      "p = 1.23971366882\n",
      "f(p)= 4.416810832630347e-06\n",
      "Absolute Error= 1.0291567578146754e-06\n",
      "NOTE: --SMALL ERROR--!\n",
      "Iteration No: 21\n",
      "a = 1.2397136688232422 , b = 1.239715576171875\n",
      "p = 1.23971462250\n",
      "f(p)= 3.239275763178284e-07\n",
      "Absolute Error= 7.548244140842542e-08\n",
      "NOTE: --SMALL ERROR--!\n",
      "Number of iterations : 21\n",
      "Approximate Solution (p) : 1.23971462250\n",
      "CAUTION: Method Failed After 21 Iterations!\n"
     ]
    }
   ],
   "source": [
    "bisect(a=0, b=2, TOL=1e-6, N=100, p_true=1.23971469798)"
   ]
  },
  {
   "cell_type": "markdown",
   "metadata": {},
   "source": [
    "|Iteration Number:| $a_n$ | $b_n$ | $p_n$ | $f{(p_n)}$ | $abs(p_n - p)$  \n",
    "|------------|\n",
    "|1| 0 | 2 | 1.0 | 0.9026250891453742 | 0.23971469798 |\n",
    "|2| 1.0 | 2 | 1.5 | -1.2694774653349556 | 0.26028530202 | \n",
    "|3| 1.0 | 1.5 | 1.25 | -0.04437587027603529 | 0.010285302019999998 |\n",
    "|4| 1.0 | 1.25 | 1.125 | 0.46331270147796744 | 0.11471469798 |\n",
    "|5| 1.125 | 1.25 | 1.1875 | 0.2180651245349261 | 0.05221469798 |\n",
    "|6| 1.1875 | 1.25 | 1.21875 | 0.08900166110516672 | 0.020964697980000002 |\n",
    "|7| 1.21875 | 1.25 | 1.234375 | 0.022853253498943626 | 0.005339697980000002 |\n",
    "|8| 1.234375 | 1.25 | 1.2421875 | -0.010626073604524056 | 0.002472802019999998 |\n",
    "|9| 1.234375 | 1.2421875 | 1.23828125 | 0.00614738012727889 | 0.0014334479800000022 |\n",
    "|10| 1.23828125 | 1.2421875 | 1.240234375 | -0.0022308969017381663 | 0.0005196770199999978 |\n",
    "|11| 1.23828125 | 1.240234375 | 1.2392578125 | 0.001960353784101976 | 0.0004568854800000022 |\n",
    "|12| 1.2392578125 | 1.240234375 | 1.23974609375 | -0.00013474348008735149 | 3.1395769999997825e-05 |\n",
    "|13| 1.2392578125 | 1.23974609375 | 1.23950195312 | 0.0009129371671972031 | 0.00021274485500000218 |\n",
    "|14| 1.239501953125 | 1.23974609375 | 1.23962402344 | 0.00038912984791350524 | 9.067454250000218e-05 |\n",
    "|15| 1.2396240234375 | 1.23974609375 | 1.23968505859 | 0.00012720143507305437 | 2.9639386250002175e-05 |\n",
    "|**16**| 1.23968505859375 | 1.23974609375 | 1.23971557617 | -3.7689597083279125e-06 | **8.781918749978246e-07** |\n",
    "|17| 1.23968505859375 | 1.239715576171875 | 1.23970031738 | 6.171675338073612e-05 | 1.4380597187502175e-05 |\n",
    "|18| 1.2397003173828125 | 1.239715576171875 | 1.23970794678 | 2.897402576129693e-05 | 6.751202656252175e-06 |\n",
    "|19| 1.2397079467773438 | 1.239715576171875 | 1.23971176147 | 1.260256525759118e-05 | 2.9365053906271754e-06 |\n",
    "|20| 1.2397117614746094 | 1.239715576171875 | 1.23971366882 | 4.416810832630347e-06 | 1.0291567578146754e-06 |\n",
    "|21| 1.2397136688232422 | 1.239715576171875 | 1.23971462250 | 3.239275763178284e-07 | 7.548244140842542e-08 |"
   ]
  },
  {
   "cell_type": "markdown",
   "metadata": {},
   "source": [
    "**Conclusion:** After the 16th iteration the absolute error falls below $10^{-6}$. Note that the bound in part (a) can be too large as in practice it is possible to get similar accuracy with less number of iterations as is the case here."
   ]
  },
  {
   "cell_type": "markdown",
   "metadata": {},
   "source": [
    "**(b)**\n",
    "\n",
    "We implement **Newton's Method** as a function, newton_raph() in a similar way. In addition, we derive $f'$ of the function $f$ and define it as f_prime(x) :"
   ]
  },
  {
   "cell_type": "code",
   "execution_count": 3,
   "metadata": {
    "collapsed": true
   },
   "outputs": [],
   "source": [
    "def f_prime(x):       # Derivative of the function defined \n",
    "    return 2 - 3*math.sin(x) - math.exp(x)    # f'(x) = 2 - 3sin(x) - e^(x)\n",
    "\n",
    "def newton_raph(p0, TOL, N, p_true):\n",
    "    i = 1\n",
    "    while i <= N:\n",
    "        p = p0 - (func_1(p0)/f_prime(p0))\n",
    "        print('Iteration No:', i)\n",
    "        print('p=', format(p, '0.11f'))\n",
    "        print('f(p)=', func_1(p))\n",
    "        print('f\\'(p)=', f_prime(p))\n",
    "        print('Absolute Error=', abs(p-p_true))\n",
    "        if abs(p-p_true) < 1e-6:\n",
    "            print(\"NOTE: --SMALL ERROR--!\") # Throw a note once the error gets smaller than 1e-6\n",
    "        if abs(p-p0) < TOL:\n",
    "            print(\"Number of iterations :\", i)\n",
    "            print(\"Approximate Solution (p) :\", format(p, '0.11f'))\n",
    "            break\n",
    "        else:\n",
    "            i += 1\n",
    "        p0 = p\n",
    "    print(\"CAUTION: Method Failed After\", i, \"Iterations!\")"
   ]
  },
  {
   "cell_type": "code",
   "execution_count": 4,
   "metadata": {},
   "outputs": [
    {
     "name": "stdout",
     "output_type": "stream",
     "text": [
      "Iteration No: 1\n",
      "p= 1.42866501155\n",
      "f(p)= -0.8908345999805163\n",
      "f'(p)= -5.142873409873063\n",
      "Absolute Error= 0.18895031357321113\n",
      "Iteration No: 2\n",
      "p= 1.25544772056\n",
      "f(p)= -0.06807009839109623\n",
      "f'(p)= -4.361474208902822\n",
      "Absolute Error= 0.015733022579749845\n",
      "Iteration No: 3\n",
      "p= 1.23984058978\n",
      "f(p)= -0.0005403251438433898\n",
      "f'(p)= -4.292259283300442\n",
      "Absolute Error= 0.00012589179535837935\n",
      "Iteration No: 4\n",
      "p= 1.23971470615\n",
      "f(p)= -3.509944157542577e-08\n",
      "f'(p)= -4.291701635862026\n",
      "Absolute Error= 8.17366152539023e-09\n",
      "NOTE: --SMALL ERROR--!\n",
      "Iteration No: 5\n",
      "p= 1.23971469798\n",
      "f(p)= -8.881784197001252e-16\n",
      "f'(p)= -4.291701599632942\n",
      "Absolute Error= 4.782396700875324e-12\n",
      "NOTE: --SMALL ERROR--!\n",
      "Iteration No: 6\n",
      "p= 1.23971469798\n",
      "f(p)= 0.0\n",
      "f'(p)= -4.291701599632942\n",
      "Absolute Error= 4.782618745480249e-12\n",
      "NOTE: --SMALL ERROR--!\n",
      "Iteration No: 7\n",
      "p= 1.23971469798\n",
      "f(p)= 0.0\n",
      "f'(p)= -4.291701599632942\n",
      "Absolute Error= 4.782618745480249e-12\n",
      "NOTE: --SMALL ERROR--!\n",
      "Number of iterations : 7\n",
      "Approximate Solution (p) : 1.23971469798\n",
      "CAUTION: Method Failed After 7 Iterations!\n"
     ]
    }
   ],
   "source": [
    "newton_raph(p0=2, TOL=1e-20, N=100, p_true=1.23971469798)"
   ]
  },
  {
   "cell_type": "markdown",
   "metadata": {},
   "source": [
    "|Iteration Number:| $p_n$ | $f{(p_n)}$ | $f'{(p_n)}$ | $abs(p_n - p)$ | \n",
    "|------------|\n",
    "|0| 2 | -4.637496608572078 | -8.116948379407695 | 0.76028530202 |\n",
    "|1| 1.42866501155 | -0.8908345999805163 | -5.142873409873063 | 0.18895031357321113 | \n",
    "|2| 1.25544772056 | -0.06807009839109623 | -4.361474208902822 | 0.015733022579749845 | \n",
    "|3| 1.23984058978 | -0.0005403251438433898 | -4.292259283300442 | 0.00012589179535837935 | \n",
    "|**4**| 1.23971470615 | -3.509944157542577e-08 | -4.291701635862026 | **8.17366152539023e-09** | \n",
    "|5| 1.23971469798 | -8.881784197001252e-16 | -4.291701599632942 | 4.782396700875324e-12 | \n",
    "|6| 1.23971469798 | 0.0 | -4.291701599632942 | 4.782618745480249e-12 | \n",
    "|7| 1.23971469798 | 0.0 | -4.291701599632942 | 4.782618745480249e-12 | "
   ]
  },
  {
   "cell_type": "markdown",
   "metadata": {},
   "source": [
    "**Conclusion:** After the 4th iteration the absolute error falls below  $10^{−6}$. This means we have faster convergence compared to the Bisection Method of part (a). The identical results for $p_n$ in iteraions 6 and 7 show that the method has converged to the 'approximately true' value of the root."
   ]
  },
  {
   "cell_type": "markdown",
   "metadata": {},
   "source": [
    "**(c)**\n",
    "\n",
    "We implement the **Secant Method** as a function, secant(), in a similar way :"
   ]
  },
  {
   "cell_type": "code",
   "execution_count": 5,
   "metadata": {
    "collapsed": true
   },
   "outputs": [],
   "source": [
    "def secant(p0, p1, TOL, N, p_true):\n",
    "    i = 2\n",
    "    q0 = func_1(p0)\n",
    "    q1 = func_1(p1)\n",
    "    print('Iteration No : 0 \\n p=', format(p0, '0.11f'))\n",
    "    print('Iteration No : 1 \\n p=', format(p1, '0.11f'))\n",
    "    while i <= N :\n",
    "        p = p1 - (q1*((p1-p0)/(q1-q0)))\n",
    "        print('Iteration No:', i)\n",
    "        print('p=', format(p, '0.11f'))\n",
    "        print('f(p)=', func_1(p))\n",
    "        print('Absolute Error=', abs(p-p_true))\n",
    "        if abs(p-p_true) < 1e-6:\n",
    "            print(\"NOTE: --SMALL ERROR--!\") # Throw a note once the error gets smaller than 1e-6\n",
    "        if abs(p-p0) < TOL:\n",
    "            print(\"Number of iterations :\", i)\n",
    "            print(\"Approximate Solution (p) :\", format(p, '0.11f'))\n",
    "            break\n",
    "        else:\n",
    "            i += 1\n",
    "        p0 = p1\n",
    "        q0 = q1\n",
    "        p1 = p\n",
    "        q1 = func_1(p)\n",
    "    print(\"CAUTION: Method Failed After\", N, \"Iterations!\")"
   ]
  },
  {
   "cell_type": "code",
   "execution_count": 6,
   "metadata": {},
   "outputs": [
    {
     "name": "stdout",
     "output_type": "stream",
     "text": [
      "Iteration No : 0 \n",
      " p= 10.00000000000\n",
      "Iteration No : 1 \n",
      " p= 2.00000000000\n",
      "Iteration No: 2\n",
      "p= 1.99831397063\n",
      "f(p)= -4.623819919413408\n",
      "Absolute Error= 0.7585992726469828\n",
      "Iteration No: 3\n",
      "p= 1.42830056247\n",
      "f(p)= -0.8889605898239727\n",
      "Absolute Error= 0.18858586448737147\n",
      "Iteration No: 4\n",
      "p= 1.29262759307\n",
      "f(p)= -0.23330369295699382\n",
      "Absolute Error= 0.05291289509046426\n",
      "Iteration No: 5\n",
      "p= 1.24435081150\n",
      "f(p)= -0.01994443247808153\n",
      "Absolute Error= 0.004636113520725793\n",
      "Iteration No: 6\n",
      "p= 1.23983798647\n",
      "f(p)= -0.0005291511163671991\n",
      "Absolute Error= 0.0001232884944508683\n",
      "Iteration No: 7\n",
      "p= 1.23971499231\n",
      "f(p)= -1.2631769212845256e-06\n",
      "Absolute Error= 2.943252634945992e-07\n",
      "NOTE: --SMALL ERROR--!\n",
      "Iteration No: 8\n",
      "p= 1.23971469799\n",
      "f(p)= -8.036904475261508e-11\n",
      "Absolute Error= 1.3943957100082116e-11\n",
      "NOTE: --SMALL ERROR--!\n",
      "Iteration No: 9\n",
      "p= 1.23971469798\n",
      "f(p)= 0.0\n",
      "Absolute Error= 4.782618745480249e-12\n",
      "NOTE: --SMALL ERROR--!\n",
      "Iteration No: 10\n",
      "p= 1.23971469798\n",
      "f(p)= 0.0\n",
      "Absolute Error= 4.782618745480249e-12\n",
      "NOTE: --SMALL ERROR--!\n",
      "Number of iterations : 10\n",
      "Approximate Solution (p) : 1.23971469798\n",
      "CAUTION: Method Failed After 100 Iterations!\n"
     ]
    }
   ],
   "source": [
    "secant(p0=10 ,p1=2 ,TOL=1e-7, N=100, p_true=1.23971469798)"
   ]
  },
  {
   "cell_type": "markdown",
   "metadata": {},
   "source": [
    "|Iteration Number:| $p_n$ | $f{(p_n)}$ | $abs(p_n - p)$ |\n",
    "|------------|\n",
    "|0| 10 | -22008.98300939395 | 8.76028530202 | \n",
    "|1| 2 | -4.637496608572078 | 0.76028530202 | \n",
    "|2| 1.99831397063 | -4.623819919413408 | 0.7585992726469828 | \n",
    "|3| 1.42830056247 | -0.8889605898239727 | 0.18858586448737147 | \n",
    "|4| 1.29262759307 | -0.23330369295699382 | 0.05291289509046426 |\n",
    "|5| 1.24435081150 | -0.01994443247808153 | 0.004636113520725793 |\n",
    "|6| 1.23983798647 | -0.0005291511163671991 | 0.0001232884944508683 |\n",
    "|**7**| 1.23971499231 | -1.2631769212845256e-06 | **2.943252634945992e-07** |\n",
    "|8| 1.23971469799 | -8.036904475261508e-11 | 1.3943957100082116e-11 |\n",
    "|9| 1.23971469798 | 0.0 | 4.782618745480249e-12 |\n",
    "|10| 1.23971469798 | 0.0 | 4.782618745480249e-12 |"
   ]
  },
  {
   "cell_type": "markdown",
   "metadata": {},
   "source": [
    "**Conclusion:** After the 7th iteration the absolute error falls below  $10^{−6}$. This means we have faster convergence compared to the Bisection Method of part (a) but slightly slower convergence compared to the Newton Method of part (b). The identical results for $p_n$ in iteraions 9 and 10 show that the method has converged to the 'approximately true' value of the root by the 9th iteration (we could have stopped there)."
   ]
  },
  {
   "cell_type": "markdown",
   "metadata": {},
   "source": [
    "---------"
   ]
  },
  {
   "cell_type": "markdown",
   "metadata": {},
   "source": [
    "---------"
   ]
  },
  {
   "cell_type": "markdown",
   "metadata": {},
   "source": [
    "**(a)**\n",
    "\n",
    "First we define $f(h)$ as a function func_2(x). Next we implement the **Method of False Position (Regula Falsi)** as a function false_position() :"
   ]
  },
  {
   "cell_type": "code",
   "execution_count": 7,
   "metadata": {
    "collapsed": true
   },
   "outputs": [],
   "source": [
    "def func_2(x):\n",
    "    return 5*(math.pi) - 10*(math.asin(x)) - (10*x)*(math.sqrt(1-x**2)) - 12    # f(x) = 5(pi) - 10arcsin(x) - 10x.sqrt(x^2) -12(= 0)\n",
    "\n",
    "def false_position(p0, p1, TOL, N):\n",
    "    i = 2\n",
    "    q0 = func_2(p0)\n",
    "    q1 = func_2(p1)\n",
    "    while i <= N :\n",
    "        p = p1 - (q1*((p1-p0)/(q1-q0)))\n",
    "        if i == 2 :\n",
    "            print('f(p0)=', format(func_2(p0), '0.11f'))\n",
    "            print('f(p1)=', format(func_2(p1), '0.11f'))\n",
    "        print('Iteration No:', i-1)\n",
    "        print('p0=', p0)\n",
    "        print('p1=', p1)\n",
    "        print('p=', format(p, '0.11f'))\n",
    "        print('f(p)=', func_2(p))\n",
    "        if abs(func_2(p)) < TOL :    # The stopping criterion from part (a) - given: 0.1\n",
    "            print(\"Number of iterations :\", i-1)\n",
    "            print(\"Approximate Solution (p) :\", format(p, '0.11f'))\n",
    "            break\n",
    "        else:\n",
    "            i += 1\n",
    "            q = func_2(p)\n",
    "        if q*q1 < 0:\n",
    "            p0 = p1\n",
    "            q0 = q1\n",
    "        p1 = p\n",
    "        q1 = q\n",
    "    print(\"CAUTION: Method Failed After\", N, \"Iterations!\")"
   ]
  },
  {
   "cell_type": "code",
   "execution_count": 8,
   "metadata": {},
   "outputs": [
    {
     "name": "stdout",
     "output_type": "stream",
     "text": [
      "f(p0)= 3.70796326795\n",
      "f(p1)= -12.00000000000\n",
      "Iteration No: 1\n",
      "p0= 0\n",
      "p1= 1\n",
      "p= 0.23605627316\n",
      "f(p)= -0.9689426839999342\n",
      "Iteration No: 2\n",
      "p0= 0\n",
      "p1= 0.23605627315890243\n",
      "p= 0.18715107788\n",
      "f(p)= -0.013091814901947885\n",
      "Number of iterations : 2\n",
      "Approximate Solution (p) : 0.18715107788\n",
      "CAUTION: Method Failed After 100 Iterations!\n"
     ]
    }
   ],
   "source": [
    "false_position(p0= 0 ,p1= 1,TOL= 1e-1, N=100)"
   ]
  },
  {
   "cell_type": "markdown",
   "metadata": {},
   "source": [
    "|Iteration Number:| $p_0$ | $p_1$ | $p$ | $f(p)$ | \n",
    "|------------|\n",
    "|1| 0 | 1 | 0.23605627316 | -0.9689426839999342 |\n",
    "|2| 0 | 0.23605627315890243 | **0.18715107788** | -0.013091814901947885 |"
   ]
  }
 ],
 "metadata": {
  "kernelspec": {
   "display_name": "Python 3",
   "language": "python",
   "name": "python3"
  },
  "language_info": {
   "codemirror_mode": {
    "name": "ipython",
    "version": 3
   },
   "file_extension": ".py",
   "mimetype": "text/x-python",
   "name": "python",
   "nbconvert_exporter": "python",
   "pygments_lexer": "ipython3",
   "version": "3.6.3"
  },
  "toc": {
   "colors": {
    "hover_highlight": "#DAA520",
    "navigate_num": "#000000",
    "navigate_text": "#333333",
    "running_highlight": "#FF0000",
    "selected_highlight": "#FFD700",
    "sidebar_border": "#EEEEEE",
    "wrapper_background": "#FFFFFF"
   },
   "moveMenuLeft": true,
   "nav_menu": {
    "height": "12px",
    "width": "252px"
   },
   "navigate_menu": true,
   "number_sections": true,
   "sideBar": true,
   "threshold": 4,
   "toc_cell": false,
   "toc_section_display": "block",
   "toc_window_display": false,
   "widenNotebook": false
  }
 },
 "nbformat": 4,
 "nbformat_minor": 2
}
